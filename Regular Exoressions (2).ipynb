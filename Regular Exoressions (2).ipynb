{
 "cells": [
  {
   "cell_type": "markdown",
   "metadata": {
    "collapsed": true
   },
   "source": [
    "# Regular Expressions"
   ]
  },
  {
   "cell_type": "markdown",
   "metadata": {},
   "source": [
    "1. referred as 'regex' or 'regexp'\n",
    "2. used for matching strings of text, such as perticular characters, words, or patterns of characters."
   ]
  },
  {
   "cell_type": "markdown",
   "metadata": {},
   "source": [
    "# Regular Expression Quick Guide"
   ]
  },
  {
   "cell_type": "markdown",
   "metadata": {},
   "source": [
    "1. ^ Matches the beginning of a line\n",
    "\n",
    "2. $ Matches the end of the line\n",
    "\n",
    "3. . Matches any character\n",
    "\n",
    "4. \\s Matches whitespace\n",
    "\n",
    "5. \\S Matches any non-whitespace character\n",
    "\n",
    "6. '*' Repeats a character zero or more times\n",
    "\n",
    "7. *? Repeats a character zero or more times (non-greedy)\n",
    "\n",
    "8. '+' Repeats a character one or more times\n",
    "\n",
    "9. +? Repeats a character one or more times (non-greedy)\n",
    "\n",
    "10. [aeiou] Matches a single character in the listed set\n",
    "\n",
    "11. [^XYZ] Matches a single character not in the listed set\n",
    "\n",
    "12. [a-z0-9] The set of characters can include a range\n",
    "\n",
    "13. ( Indicates where string extraction is to start\n",
    "\n",
    "14. ) Indicates where string extraction is to end"
   ]
  },
  {
   "cell_type": "markdown",
   "metadata": {},
   "source": [
    "# Regular Expression with Examples"
   ]
  },
  {
   "cell_type": "markdown",
   "metadata": {},
   "source": [
    "In Python,\n",
    "* need to import a library using \"import re\"\n",
    "* re.findall() <-- extract portions of a string that match the regex "
   ]
  },
  {
   "cell_type": "code",
   "execution_count": null,
   "metadata": {},
   "outputs": [],
   "source": [
    "import re\n",
    "re.findall('a','this is a aa and aaa')"
   ]
  },
  {
   "cell_type": "code",
   "execution_count": null,
   "metadata": {},
   "outputs": [],
   "source": [
    " re.findall('a+','this is a aa and aaa')"
   ]
  },
  {
   "cell_type": "code",
   "execution_count": null,
   "metadata": {},
   "outputs": [],
   "source": [
    " re.findall('a.','this is a aa and aaa abc')"
   ]
  },
  {
   "cell_type": "code",
   "execution_count": null,
   "metadata": {},
   "outputs": [],
   "source": [
    "#beginning of line \n",
    "\n",
    "re.findall('^t','this is a aa and aaa, that')\n",
    "# re.findall('^t...','this is a aa and aaa, that')"
   ]
  },
  {
   "cell_type": "code",
   "execution_count": null,
   "metadata": {},
   "outputs": [],
   "source": [
    "#end of line \n",
    "\n",
    "re.findall('t$','this is a aa and aaa, that')\n",
    "re.findall('...t$','this is a aa and aaa, that')"
   ]
  },
  {
   "cell_type": "markdown",
   "metadata": {},
   "source": [
    "* abc{2}      matches a string that has ab followed by 2 c\n",
    "* abc{2,}     matches a string that has ab followed by 2 or more c\n",
    "* abc{2,5}    matches a string that has ab followed by 2 up to 5 c"
   ]
  },
  {
   "cell_type": "code",
   "execution_count": null,
   "metadata": {},
   "outputs": [],
   "source": [
    "# re.findall('abc{2}','a b c abc abcc abccc abcccc')\n",
    "# re.findall('abc{2,}','a b c abc abcc abccc abcccc')\n",
    "# re.findall('abc{2,5}','a b c abc abcc abccc abcccc abcccccc')"
   ]
  },
  {
   "cell_type": "markdown",
   "metadata": {},
   "source": [
    "* a(bc)*      matches a string that has a followed by zero or more copies of the sequence bc\n",
    "* a(bc){2,5}  matches a string that has a followed by 2 up to 5 copies of the sequence bc"
   ]
  },
  {
   "cell_type": "code",
   "execution_count": null,
   "metadata": {},
   "outputs": [],
   "source": [
    "# re.findall('a(bc)','a b c abc abcc abccc abcbc abccbcccbccc')\n",
    "# re.findall('a(bc){2,5}','a b c abc abcc abccc abcbc abccbcccbccc')\n",
    "# re.search('a(bc){2,5}','a b c abc abcc abccc abcbc abccbcccbccc abcbc')"
   ]
  },
  {
   "cell_type": "markdown",
   "metadata": {},
   "source": [
    "OR operator — | or []"
   ]
  },
  {
   "cell_type": "code",
   "execution_count": null,
   "metadata": {},
   "outputs": [],
   "source": [
    "# re.findall('(abc)','this is a b c d not abcd')\n",
    "\n",
    "# re.findall('(a|b|c)','this is a b c d not abcd')\n",
    "\n",
    "# re.findall('[abc]','this is a b c d not abcd')\n",
    "\n",
    "# re.findall('[a|b|c]','this is a b c d not abcd')\n",
    "\n"
   ]
  },
  {
   "cell_type": "markdown",
   "metadata": {},
   "source": [
    "Character classes — \\d \\w \\s and .\n",
    "\n",
    "* \\d - only numbers\n",
    "* \\D - except number\n",
    "\n",
    "* \\w - select alphanumeric characters & underscore\n",
    "* \\W - except alphanumeric characters & underscore\n",
    "\n",
    "* \\s - select all spaces (includes tabs and line breaks)\n",
    "* \\S - ecxept spaces"
   ]
  },
  {
   "cell_type": "code",
   "execution_count": null,
   "metadata": {},
   "outputs": [],
   "source": [
    "# re.findall('\\d','a b c abc 1 2 3 123')\n",
    "# re.findall('\\D','a b c abc 1 2 3 123')"
   ]
  },
  {
   "cell_type": "code",
   "execution_count": null,
   "metadata": {},
   "outputs": [],
   "source": [
    "# re.findall('[a-zA-Z0-9_]','a b c abc 1 2 3 _ ! @ # $ A B C _')\n",
    "# re.findall('\\w','a b c abc 1 2 3 _ ! @ # $')\n",
    "# re.findall('\\W','a b c abc 1 2 3 _ ! @ # $')"
   ]
  },
  {
   "cell_type": "code",
   "execution_count": null,
   "metadata": {},
   "outputs": [],
   "source": [
    "# re.findall('\\s','a b c abc 1 2 3 _ ! @ # $')\n",
    "# re.findall('\\S','a b c abc 1 2 3 _ ! @ # $')"
   ]
  },
  {
   "cell_type": "markdown",
   "metadata": {},
   "source": [
    "? - question mark"
   ]
  },
  {
   "cell_type": "code",
   "execution_count": null,
   "metadata": {},
   "outputs": [],
   "source": [
    "#select a with or without b\n",
    "#re.findall('ab?','a abab abc ac ad cd')\n",
    "\n",
    "\n",
    "\n",
    "\n",
    "#d(?=r) - matches a d only if is followed by r, but r will not be part of the overall regex match\n",
    "#re.findall('d(?=r)','third drone')  # - in this it will select d of drone\n",
    "\n",
    "#(?<=r)d - matches a d only if is preceded by an r, but r will not be part of the overall regex match\n",
    "#re.findall('(?<=r)d','third drone')  # - in this it will select d of third\n",
    "\n",
    "#d(?!r) - matches a d only if is not followed by r, but r will not be part of the overall regex \n",
    "#re.findall('d(?!r)','third drone')  # - in this it will select d of third\n",
    "\n",
    "#(?<!r)d - matches a d only if is not preceded by an r, but r will not be part of the overall regex match\n",
    "#re.findall('(?<!r)d','third drone')  # - in this it will select d of drone\n",
    "\n",
    "\n",
    "\n",
    "\n",
    "#non greedy - stop after one match\n",
    "\n",
    "# re.findall('^f.*:','from:from: amit.r@from.com')\n",
    "# re.findall('^f.*:?','from:from: amit.r@from.com')"
   ]
  },
  {
   "cell_type": "markdown",
   "metadata": {},
   "source": [
    "^ - start with or not in"
   ]
  },
  {
   "cell_type": "code",
   "execution_count": null,
   "metadata": {},
   "outputs": [],
   "source": [
    "# re.findall('^(this)','this is a car')\n",
    "\n",
    "# re.findall('[^this]','this is a car')"
   ]
  },
  {
   "cell_type": "markdown",
   "metadata": {},
   "source": [
    "Boundaries — \\b and \\B -  performs a \"whole words only\" search"
   ]
  },
  {
   "cell_type": "code",
   "execution_count": null,
   "metadata": {},
   "outputs": [],
   "source": [
    "#re.findall('\\babc\\b','aabc abc abcc')"
   ]
  },
  {
   "cell_type": "markdown",
   "metadata": {},
   "source": [
    "miscellaneous"
   ]
  },
  {
   "cell_type": "code",
   "execution_count": null,
   "metadata": {},
   "outputs": [],
   "source": [
    "re.findall('th[ai][st]', 'this or that')"
   ]
  },
  {
   "cell_type": "markdown",
   "metadata": {},
   "source": [
    "# References"
   ]
  },
  {
   "cell_type": "markdown",
   "metadata": {},
   "source": [
    "1. https://medium.com/factory-mind/regex-tutorial-a-simple-cheatsheet-by-examples-649dc1c3f285\n",
    "2. https://regex101.com/r/"
   ]
  },
  {
   "cell_type": "markdown",
   "metadata": {},
   "source": [
    "#   <------------- thank you  ----------------->"
   ]
  },
  {
   "cell_type": "code",
   "execution_count": null,
   "metadata": {},
   "outputs": [],
   "source": []
  }
 ],
 "metadata": {
  "kernelspec": {
   "display_name": "Python 3",
   "language": "python",
   "name": "python3"
  },
  "language_info": {
   "codemirror_mode": {
    "name": "ipython",
    "version": 3
   },
   "file_extension": ".py",
   "mimetype": "text/x-python",
   "name": "python",
   "nbconvert_exporter": "python",
   "pygments_lexer": "ipython3",
   "version": "3.6.8"
  },
  "toc": {
   "base_numbering": 1,
   "nav_menu": {},
   "number_sections": true,
   "sideBar": true,
   "skip_h1_title": false,
   "title_cell": "Table of Contents",
   "title_sidebar": "Contents",
   "toc_cell": false,
   "toc_position": {},
   "toc_section_display": true,
   "toc_window_display": false
  }
 },
 "nbformat": 4,
 "nbformat_minor": 2
}
